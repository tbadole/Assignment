{
 "cells": [
  {
   "cell_type": "markdown",
   "id": "9182bb06",
   "metadata": {},
   "source": [
    "# Assignment:-Online Retail Data Analysis"
   ]
  },
  {
   "cell_type": "markdown",
   "id": "c5d2170f",
   "metadata": {},
   "source": [
    "## Problem Statement:\n",
    "As part of the main problem that will be tackled in this notebook, I will discuss in section named:\n",
    "\n",
    "1)How many online customers are there in the dataset and what is their country of origin?\n",
    "\n",
    "2)What are the countries that are most represented in the dataset?\n",
    "\n",
    "3)Calculate the revenue that was made in each month and what is the percentage revenue based on the various countries?"
   ]
  },
  {
   "cell_type": "markdown",
   "id": "ffcab67d",
   "metadata": {},
   "source": [
    "# Importing datasets:"
   ]
  },
  {
   "cell_type": "code",
   "execution_count": 175,
   "id": "90d349e4",
   "metadata": {},
   "outputs": [],
   "source": [
    "#importing required libraries\n",
    "import pandas as pd\n",
    "import numpy as np\n",
    "import matplotlib.pyplot as plt\n",
    "import seaborn as sns\n",
    "import datetime as dt\n",
    "\n",
    "import warnings\n",
    "warnings.filterwarnings('ignore')"
   ]
  },
  {
   "cell_type": "code",
   "execution_count": 176,
   "id": "9c8ce967",
   "metadata": {},
   "outputs": [],
   "source": [
    "#To print all columns and all rows\n",
    "pd.set_option('display.max_columns',None)"
   ]
  },
  {
   "cell_type": "code",
   "execution_count": 177,
   "id": "b9c727cc",
   "metadata": {},
   "outputs": [
    {
     "data": {
      "text/html": [
       "<div>\n",
       "<style scoped>\n",
       "    .dataframe tbody tr th:only-of-type {\n",
       "        vertical-align: middle;\n",
       "    }\n",
       "\n",
       "    .dataframe tbody tr th {\n",
       "        vertical-align: top;\n",
       "    }\n",
       "\n",
       "    .dataframe thead th {\n",
       "        text-align: right;\n",
       "    }\n",
       "</style>\n",
       "<table border=\"1\" class=\"dataframe\">\n",
       "  <thead>\n",
       "    <tr style=\"text-align: right;\">\n",
       "      <th></th>\n",
       "      <th>InvoiceNo</th>\n",
       "      <th>StockCode</th>\n",
       "      <th>Description</th>\n",
       "      <th>Quantity</th>\n",
       "      <th>InvoiceDate</th>\n",
       "      <th>UnitPrice</th>\n",
       "      <th>CustomerID</th>\n",
       "      <th>Country</th>\n",
       "    </tr>\n",
       "  </thead>\n",
       "  <tbody>\n",
       "    <tr>\n",
       "      <th>0</th>\n",
       "      <td>536365</td>\n",
       "      <td>85123A</td>\n",
       "      <td>WHITE HANGING HEART T-LIGHT HOLDER</td>\n",
       "      <td>6</td>\n",
       "      <td>12/1/10 8:26</td>\n",
       "      <td>2.55</td>\n",
       "      <td>17850.0</td>\n",
       "      <td>United Kingdom</td>\n",
       "    </tr>\n",
       "    <tr>\n",
       "      <th>1</th>\n",
       "      <td>536365</td>\n",
       "      <td>71053</td>\n",
       "      <td>WHITE METAL LANTERN</td>\n",
       "      <td>6</td>\n",
       "      <td>12/1/10 8:26</td>\n",
       "      <td>3.39</td>\n",
       "      <td>17850.0</td>\n",
       "      <td>United Kingdom</td>\n",
       "    </tr>\n",
       "    <tr>\n",
       "      <th>2</th>\n",
       "      <td>536365</td>\n",
       "      <td>84406B</td>\n",
       "      <td>CREAM CUPID HEARTS COAT HANGER</td>\n",
       "      <td>8</td>\n",
       "      <td>12/1/10 8:26</td>\n",
       "      <td>2.75</td>\n",
       "      <td>17850.0</td>\n",
       "      <td>United Kingdom</td>\n",
       "    </tr>\n",
       "    <tr>\n",
       "      <th>3</th>\n",
       "      <td>536365</td>\n",
       "      <td>84029G</td>\n",
       "      <td>KNITTED UNION FLAG HOT WATER BOTTLE</td>\n",
       "      <td>6</td>\n",
       "      <td>12/1/10 8:26</td>\n",
       "      <td>3.39</td>\n",
       "      <td>17850.0</td>\n",
       "      <td>United Kingdom</td>\n",
       "    </tr>\n",
       "    <tr>\n",
       "      <th>4</th>\n",
       "      <td>536365</td>\n",
       "      <td>84029E</td>\n",
       "      <td>RED WOOLLY HOTTIE WHITE HEART.</td>\n",
       "      <td>6</td>\n",
       "      <td>12/1/10 8:26</td>\n",
       "      <td>3.39</td>\n",
       "      <td>17850.0</td>\n",
       "      <td>United Kingdom</td>\n",
       "    </tr>\n",
       "  </tbody>\n",
       "</table>\n",
       "</div>"
      ],
      "text/plain": [
       "  InvoiceNo StockCode                          Description  Quantity  \\\n",
       "0    536365    85123A   WHITE HANGING HEART T-LIGHT HOLDER         6   \n",
       "1    536365     71053                  WHITE METAL LANTERN         6   \n",
       "2    536365    84406B       CREAM CUPID HEARTS COAT HANGER         8   \n",
       "3    536365    84029G  KNITTED UNION FLAG HOT WATER BOTTLE         6   \n",
       "4    536365    84029E       RED WOOLLY HOTTIE WHITE HEART.         6   \n",
       "\n",
       "    InvoiceDate  UnitPrice  CustomerID         Country  \n",
       "0  12/1/10 8:26       2.55     17850.0  United Kingdom  \n",
       "1  12/1/10 8:26       3.39     17850.0  United Kingdom  \n",
       "2  12/1/10 8:26       2.75     17850.0  United Kingdom  \n",
       "3  12/1/10 8:26       3.39     17850.0  United Kingdom  \n",
       "4  12/1/10 8:26       3.39     17850.0  United Kingdom  "
      ]
     },
     "execution_count": 177,
     "metadata": {},
     "output_type": "execute_result"
    }
   ],
   "source": [
    "#importing dataset\n",
    "df = pd.read_csv(\"Online_Retail.csv\") #Reading csv file\n",
    "df.head()"
   ]
  },
  {
   "cell_type": "markdown",
   "id": "814873f0",
   "metadata": {},
   "source": [
    "A first look at the dataset reveals some interesting variables for each order. As we are looking at the total purchases in particular time periods, it would be useful to create another column for total order amount as well. This is achieved by multiplying unit price with quantity purchased."
   ]
  },
  {
   "cell_type": "markdown",
   "id": "cfaa3bf2",
   "metadata": {},
   "source": [
    "# Preprocessing and EDA:"
   ]
  },
  {
   "cell_type": "code",
   "execution_count": 178,
   "id": "5aeb9508",
   "metadata": {},
   "outputs": [
    {
     "data": {
      "text/plain": [
       "(541909, 8)"
      ]
     },
     "execution_count": 178,
     "metadata": {},
     "output_type": "execute_result"
    }
   ],
   "source": [
    "#Checking shape of my dataset\n",
    "df.shape"
   ]
  },
  {
   "cell_type": "code",
   "execution_count": 179,
   "id": "ac48010a",
   "metadata": {},
   "outputs": [
    {
     "data": {
      "text/plain": [
       "Index(['InvoiceNo', 'StockCode', 'Description', 'Quantity', 'InvoiceDate',\n",
       "       'UnitPrice', 'CustomerID', 'Country'],\n",
       "      dtype='object')"
      ]
     },
     "execution_count": 179,
     "metadata": {},
     "output_type": "execute_result"
    }
   ],
   "source": [
    "#Checking all column names\n",
    "df.columns"
   ]
  },
  {
   "cell_type": "code",
   "execution_count": 180,
   "id": "63130dfa",
   "metadata": {},
   "outputs": [
    {
     "data": {
      "text/plain": [
       "InvoiceNo       object\n",
       "StockCode       object\n",
       "Description     object\n",
       "Quantity         int64\n",
       "InvoiceDate     object\n",
       "UnitPrice      float64\n",
       "CustomerID     float64\n",
       "Country         object\n",
       "dtype: object"
      ]
     },
     "execution_count": 180,
     "metadata": {},
     "output_type": "execute_result"
    }
   ],
   "source": [
    "#Checking the data types of all columns\n",
    "df.dtypes"
   ]
  },
  {
   "cell_type": "code",
   "execution_count": 181,
   "id": "4f13633c",
   "metadata": {},
   "outputs": [
    {
     "data": {
      "text/html": [
       "<div>\n",
       "<style scoped>\n",
       "    .dataframe tbody tr th:only-of-type {\n",
       "        vertical-align: middle;\n",
       "    }\n",
       "\n",
       "    .dataframe tbody tr th {\n",
       "        vertical-align: top;\n",
       "    }\n",
       "\n",
       "    .dataframe thead th {\n",
       "        text-align: right;\n",
       "    }\n",
       "</style>\n",
       "<table border=\"1\" class=\"dataframe\">\n",
       "  <thead>\n",
       "    <tr style=\"text-align: right;\">\n",
       "      <th></th>\n",
       "      <th>InvoiceNo</th>\n",
       "      <th>StockCode</th>\n",
       "      <th>Description</th>\n",
       "      <th>Quantity</th>\n",
       "      <th>InvoiceDate</th>\n",
       "      <th>UnitPrice</th>\n",
       "      <th>CustomerID</th>\n",
       "      <th>Country</th>\n",
       "      <th>TotalRevenue</th>\n",
       "    </tr>\n",
       "  </thead>\n",
       "  <tbody>\n",
       "    <tr>\n",
       "      <th>0</th>\n",
       "      <td>536365</td>\n",
       "      <td>85123A</td>\n",
       "      <td>WHITE HANGING HEART T-LIGHT HOLDER</td>\n",
       "      <td>6</td>\n",
       "      <td>12/1/10 8:26</td>\n",
       "      <td>2.55</td>\n",
       "      <td>17850.0</td>\n",
       "      <td>United Kingdom</td>\n",
       "      <td>15.30</td>\n",
       "    </tr>\n",
       "    <tr>\n",
       "      <th>1</th>\n",
       "      <td>536365</td>\n",
       "      <td>71053</td>\n",
       "      <td>WHITE METAL LANTERN</td>\n",
       "      <td>6</td>\n",
       "      <td>12/1/10 8:26</td>\n",
       "      <td>3.39</td>\n",
       "      <td>17850.0</td>\n",
       "      <td>United Kingdom</td>\n",
       "      <td>20.34</td>\n",
       "    </tr>\n",
       "    <tr>\n",
       "      <th>2</th>\n",
       "      <td>536365</td>\n",
       "      <td>84406B</td>\n",
       "      <td>CREAM CUPID HEARTS COAT HANGER</td>\n",
       "      <td>8</td>\n",
       "      <td>12/1/10 8:26</td>\n",
       "      <td>2.75</td>\n",
       "      <td>17850.0</td>\n",
       "      <td>United Kingdom</td>\n",
       "      <td>22.00</td>\n",
       "    </tr>\n",
       "    <tr>\n",
       "      <th>3</th>\n",
       "      <td>536365</td>\n",
       "      <td>84029G</td>\n",
       "      <td>KNITTED UNION FLAG HOT WATER BOTTLE</td>\n",
       "      <td>6</td>\n",
       "      <td>12/1/10 8:26</td>\n",
       "      <td>3.39</td>\n",
       "      <td>17850.0</td>\n",
       "      <td>United Kingdom</td>\n",
       "      <td>20.34</td>\n",
       "    </tr>\n",
       "    <tr>\n",
       "      <th>4</th>\n",
       "      <td>536365</td>\n",
       "      <td>84029E</td>\n",
       "      <td>RED WOOLLY HOTTIE WHITE HEART.</td>\n",
       "      <td>6</td>\n",
       "      <td>12/1/10 8:26</td>\n",
       "      <td>3.39</td>\n",
       "      <td>17850.0</td>\n",
       "      <td>United Kingdom</td>\n",
       "      <td>20.34</td>\n",
       "    </tr>\n",
       "  </tbody>\n",
       "</table>\n",
       "</div>"
      ],
      "text/plain": [
       "  InvoiceNo StockCode                          Description  Quantity  \\\n",
       "0    536365    85123A   WHITE HANGING HEART T-LIGHT HOLDER         6   \n",
       "1    536365     71053                  WHITE METAL LANTERN         6   \n",
       "2    536365    84406B       CREAM CUPID HEARTS COAT HANGER         8   \n",
       "3    536365    84029G  KNITTED UNION FLAG HOT WATER BOTTLE         6   \n",
       "4    536365    84029E       RED WOOLLY HOTTIE WHITE HEART.         6   \n",
       "\n",
       "    InvoiceDate  UnitPrice  CustomerID         Country  TotalRevenue  \n",
       "0  12/1/10 8:26       2.55     17850.0  United Kingdom         15.30  \n",
       "1  12/1/10 8:26       3.39     17850.0  United Kingdom         20.34  \n",
       "2  12/1/10 8:26       2.75     17850.0  United Kingdom         22.00  \n",
       "3  12/1/10 8:26       3.39     17850.0  United Kingdom         20.34  \n",
       "4  12/1/10 8:26       3.39     17850.0  United Kingdom         20.34  "
      ]
     },
     "execution_count": 181,
     "metadata": {},
     "output_type": "execute_result"
    }
   ],
   "source": [
    "#create another column for total order amount\n",
    "df['TotalRevenue'] = df['Quantity']*df['UnitPrice']\n",
    "df.head()"
   ]
  },
  {
   "cell_type": "code",
   "execution_count": 182,
   "id": "afca153e",
   "metadata": {},
   "outputs": [
    {
     "name": "stdout",
     "output_type": "stream",
     "text": [
      "<class 'pandas.core.frame.DataFrame'>\n",
      "RangeIndex: 541909 entries, 0 to 541908\n",
      "Data columns (total 9 columns):\n",
      " #   Column        Non-Null Count   Dtype  \n",
      "---  ------        --------------   -----  \n",
      " 0   InvoiceNo     541909 non-null  object \n",
      " 1   StockCode     541909 non-null  object \n",
      " 2   Description   540455 non-null  object \n",
      " 3   Quantity      541909 non-null  int64  \n",
      " 4   InvoiceDate   541909 non-null  object \n",
      " 5   UnitPrice     541909 non-null  float64\n",
      " 6   CustomerID    406829 non-null  float64\n",
      " 7   Country       541909 non-null  object \n",
      " 8   TotalRevenue  541909 non-null  float64\n",
      "dtypes: float64(3), int64(1), object(5)\n",
      "memory usage: 37.2+ MB\n"
     ]
    }
   ],
   "source": [
    "#Checking the info about the dataset\n",
    "df.info()"
   ]
  },
  {
   "cell_type": "markdown",
   "id": "2a6b9326",
   "metadata": {},
   "source": [
    "Our dataset is composed of 541909 rows and 9 columns. When going through the columns, we notice that we have some missing values in the CustomerID column, as it only has 406829 values. Also the column Description has missing values. So, that should be considered when applying exploration to our dataset.Above is the info about the dataset there is no null values in the dataset."
   ]
  },
  {
   "cell_type": "code",
   "execution_count": 183,
   "id": "7e0fbcc1",
   "metadata": {},
   "outputs": [
    {
     "data": {
      "text/plain": [
       "InvoiceNo       25900\n",
       "StockCode        4070\n",
       "Description      4223\n",
       "Quantity          722\n",
       "InvoiceDate     23260\n",
       "UnitPrice        1630\n",
       "CustomerID       4372\n",
       "Country            38\n",
       "TotalRevenue     6204\n",
       "dtype: int64"
      ]
     },
     "execution_count": 183,
     "metadata": {},
     "output_type": "execute_result"
    }
   ],
   "source": [
    "#Checking unique values of each column\n",
    "df.nunique()"
   ]
  },
  {
   "cell_type": "code",
   "execution_count": 184,
   "id": "a7ffe5cf",
   "metadata": {},
   "outputs": [
    {
     "data": {
      "text/plain": [
       "InvoiceNo            0\n",
       "StockCode            0\n",
       "Description       1454\n",
       "Quantity             0\n",
       "InvoiceDate          0\n",
       "UnitPrice            0\n",
       "CustomerID      135080\n",
       "Country              0\n",
       "TotalRevenue         0\n",
       "dtype: int64"
      ]
     },
     "execution_count": 184,
     "metadata": {},
     "output_type": "execute_result"
    }
   ],
   "source": [
    "#Checking null values in the dataset\n",
    "df.isnull().sum()"
   ]
  },
  {
   "cell_type": "code",
   "execution_count": 185,
   "id": "9e21147a",
   "metadata": {},
   "outputs": [
    {
     "data": {
      "text/plain": [
       "InvoiceNo        0.00\n",
       "StockCode        0.00\n",
       "Description      0.27\n",
       "Quantity         0.00\n",
       "InvoiceDate      0.00\n",
       "UnitPrice        0.00\n",
       "CustomerID      24.93\n",
       "Country          0.00\n",
       "TotalRevenue     0.00\n",
       "dtype: float64"
      ]
     },
     "execution_count": 185,
     "metadata": {},
     "output_type": "execute_result"
    }
   ],
   "source": [
    "# Calculating the Missing Values % contribution in DF\n",
    "df_null = round(df.isnull().sum()/len(df)*100,2)\n",
    "df_null"
   ]
  },
  {
   "cell_type": "markdown",
   "id": "3b9b572d",
   "metadata": {},
   "source": [
    "As we can see two columns in data have missing values.\n",
    "\n",
    "Description - 0.27% (1454 nos.)\n",
    "\n",
    "CustomerID - 24.93% (135080)"
   ]
  },
  {
   "cell_type": "markdown",
   "id": "15f7cbbd",
   "metadata": {},
   "source": [
    "We will check possibility to fill null values in CustomerID column by looking up for InvoiceNo of the row having null CustomerID in other rows where CustomerID is present. If there are still any null values in CustomerID after this process then we try to replace them with the appropriate metric"
   ]
  },
  {
   "cell_type": "code",
   "execution_count": 186,
   "id": "3aba2011",
   "metadata": {},
   "outputs": [
    {
     "data": {
      "text/html": [
       "<div>\n",
       "<style scoped>\n",
       "    .dataframe tbody tr th:only-of-type {\n",
       "        vertical-align: middle;\n",
       "    }\n",
       "\n",
       "    .dataframe tbody tr th {\n",
       "        vertical-align: top;\n",
       "    }\n",
       "\n",
       "    .dataframe thead th {\n",
       "        text-align: right;\n",
       "    }\n",
       "</style>\n",
       "<table border=\"1\" class=\"dataframe\">\n",
       "  <thead>\n",
       "    <tr style=\"text-align: right;\">\n",
       "      <th></th>\n",
       "      <th>InvoiceNo</th>\n",
       "      <th>StockCode</th>\n",
       "      <th>Description</th>\n",
       "      <th>Quantity</th>\n",
       "      <th>InvoiceDate</th>\n",
       "      <th>UnitPrice</th>\n",
       "      <th>CustomerID</th>\n",
       "      <th>Country</th>\n",
       "      <th>TotalRevenue</th>\n",
       "    </tr>\n",
       "  </thead>\n",
       "  <tbody>\n",
       "  </tbody>\n",
       "</table>\n",
       "</div>"
      ],
      "text/plain": [
       "Empty DataFrame\n",
       "Columns: [InvoiceNo, StockCode, Description, Quantity, InvoiceDate, UnitPrice, CustomerID, Country, TotalRevenue]\n",
       "Index: []"
      ]
     },
     "execution_count": 186,
     "metadata": {},
     "output_type": "execute_result"
    }
   ],
   "source": [
    "invoice_null_custid = set(df[df['CustomerID'].isnull()]['InvoiceNo'])\n",
    "df[df['InvoiceNo'].isin(invoice_null_custid) & (~df['CustomerID'].isnull())]"
   ]
  },
  {
   "cell_type": "markdown",
   "id": "ad5d45e4",
   "metadata": {},
   "source": [
    "We could not find any value to impute null values in CustomerID column since all entries for a particular InvoiceNo have missing CustomerID if that particular InvoiceNo has null CustomerID in even one entry. So we will drop all rows having null values in CustomerID."
   ]
  },
  {
   "cell_type": "code",
   "execution_count": 187,
   "id": "51006aec",
   "metadata": {},
   "outputs": [
    {
     "data": {
      "text/html": [
       "<div>\n",
       "<style scoped>\n",
       "    .dataframe tbody tr th:only-of-type {\n",
       "        vertical-align: middle;\n",
       "    }\n",
       "\n",
       "    .dataframe tbody tr th {\n",
       "        vertical-align: top;\n",
       "    }\n",
       "\n",
       "    .dataframe thead th {\n",
       "        text-align: right;\n",
       "    }\n",
       "</style>\n",
       "<table border=\"1\" class=\"dataframe\">\n",
       "  <thead>\n",
       "    <tr style=\"text-align: right;\">\n",
       "      <th></th>\n",
       "      <th>InvoiceNo</th>\n",
       "      <th>StockCode</th>\n",
       "      <th>Description</th>\n",
       "      <th>Quantity</th>\n",
       "      <th>InvoiceDate</th>\n",
       "      <th>UnitPrice</th>\n",
       "      <th>CustomerID</th>\n",
       "      <th>Country</th>\n",
       "      <th>TotalRevenue</th>\n",
       "    </tr>\n",
       "  </thead>\n",
       "  <tbody>\n",
       "    <tr>\n",
       "      <th>0</th>\n",
       "      <td>536365</td>\n",
       "      <td>85123A</td>\n",
       "      <td>WHITE HANGING HEART T-LIGHT HOLDER</td>\n",
       "      <td>6</td>\n",
       "      <td>12/1/10 8:26</td>\n",
       "      <td>2.55</td>\n",
       "      <td>17850.0</td>\n",
       "      <td>United Kingdom</td>\n",
       "      <td>15.30</td>\n",
       "    </tr>\n",
       "    <tr>\n",
       "      <th>1</th>\n",
       "      <td>536365</td>\n",
       "      <td>71053</td>\n",
       "      <td>WHITE METAL LANTERN</td>\n",
       "      <td>6</td>\n",
       "      <td>12/1/10 8:26</td>\n",
       "      <td>3.39</td>\n",
       "      <td>17850.0</td>\n",
       "      <td>United Kingdom</td>\n",
       "      <td>20.34</td>\n",
       "    </tr>\n",
       "    <tr>\n",
       "      <th>2</th>\n",
       "      <td>536365</td>\n",
       "      <td>84406B</td>\n",
       "      <td>CREAM CUPID HEARTS COAT HANGER</td>\n",
       "      <td>8</td>\n",
       "      <td>12/1/10 8:26</td>\n",
       "      <td>2.75</td>\n",
       "      <td>17850.0</td>\n",
       "      <td>United Kingdom</td>\n",
       "      <td>22.00</td>\n",
       "    </tr>\n",
       "    <tr>\n",
       "      <th>3</th>\n",
       "      <td>536365</td>\n",
       "      <td>84029G</td>\n",
       "      <td>KNITTED UNION FLAG HOT WATER BOTTLE</td>\n",
       "      <td>6</td>\n",
       "      <td>12/1/10 8:26</td>\n",
       "      <td>3.39</td>\n",
       "      <td>17850.0</td>\n",
       "      <td>United Kingdom</td>\n",
       "      <td>20.34</td>\n",
       "    </tr>\n",
       "    <tr>\n",
       "      <th>4</th>\n",
       "      <td>536365</td>\n",
       "      <td>84029E</td>\n",
       "      <td>RED WOOLLY HOTTIE WHITE HEART.</td>\n",
       "      <td>6</td>\n",
       "      <td>12/1/10 8:26</td>\n",
       "      <td>3.39</td>\n",
       "      <td>17850.0</td>\n",
       "      <td>United Kingdom</td>\n",
       "      <td>20.34</td>\n",
       "    </tr>\n",
       "    <tr>\n",
       "      <th>...</th>\n",
       "      <td>...</td>\n",
       "      <td>...</td>\n",
       "      <td>...</td>\n",
       "      <td>...</td>\n",
       "      <td>...</td>\n",
       "      <td>...</td>\n",
       "      <td>...</td>\n",
       "      <td>...</td>\n",
       "      <td>...</td>\n",
       "    </tr>\n",
       "    <tr>\n",
       "      <th>541904</th>\n",
       "      <td>581587</td>\n",
       "      <td>22613</td>\n",
       "      <td>PACK OF 20 SPACEBOY NAPKINS</td>\n",
       "      <td>12</td>\n",
       "      <td>12/9/11 12:50</td>\n",
       "      <td>0.85</td>\n",
       "      <td>12680.0</td>\n",
       "      <td>France</td>\n",
       "      <td>10.20</td>\n",
       "    </tr>\n",
       "    <tr>\n",
       "      <th>541905</th>\n",
       "      <td>581587</td>\n",
       "      <td>22899</td>\n",
       "      <td>CHILDREN'S APRON DOLLY GIRL</td>\n",
       "      <td>6</td>\n",
       "      <td>12/9/11 12:50</td>\n",
       "      <td>2.10</td>\n",
       "      <td>12680.0</td>\n",
       "      <td>France</td>\n",
       "      <td>12.60</td>\n",
       "    </tr>\n",
       "    <tr>\n",
       "      <th>541906</th>\n",
       "      <td>581587</td>\n",
       "      <td>23254</td>\n",
       "      <td>CHILDRENS CUTLERY DOLLY GIRL</td>\n",
       "      <td>4</td>\n",
       "      <td>12/9/11 12:50</td>\n",
       "      <td>4.15</td>\n",
       "      <td>12680.0</td>\n",
       "      <td>France</td>\n",
       "      <td>16.60</td>\n",
       "    </tr>\n",
       "    <tr>\n",
       "      <th>541907</th>\n",
       "      <td>581587</td>\n",
       "      <td>23255</td>\n",
       "      <td>CHILDRENS CUTLERY CIRCUS PARADE</td>\n",
       "      <td>4</td>\n",
       "      <td>12/9/11 12:50</td>\n",
       "      <td>4.15</td>\n",
       "      <td>12680.0</td>\n",
       "      <td>France</td>\n",
       "      <td>16.60</td>\n",
       "    </tr>\n",
       "    <tr>\n",
       "      <th>541908</th>\n",
       "      <td>581587</td>\n",
       "      <td>22138</td>\n",
       "      <td>BAKING SET 9 PIECE RETROSPOT</td>\n",
       "      <td>3</td>\n",
       "      <td>12/9/11 12:50</td>\n",
       "      <td>4.95</td>\n",
       "      <td>12680.0</td>\n",
       "      <td>France</td>\n",
       "      <td>14.85</td>\n",
       "    </tr>\n",
       "  </tbody>\n",
       "</table>\n",
       "<p>536641 rows × 9 columns</p>\n",
       "</div>"
      ],
      "text/plain": [
       "       InvoiceNo StockCode                          Description  Quantity  \\\n",
       "0         536365    85123A   WHITE HANGING HEART T-LIGHT HOLDER         6   \n",
       "1         536365     71053                  WHITE METAL LANTERN         6   \n",
       "2         536365    84406B       CREAM CUPID HEARTS COAT HANGER         8   \n",
       "3         536365    84029G  KNITTED UNION FLAG HOT WATER BOTTLE         6   \n",
       "4         536365    84029E       RED WOOLLY HOTTIE WHITE HEART.         6   \n",
       "...          ...       ...                                  ...       ...   \n",
       "541904    581587     22613          PACK OF 20 SPACEBOY NAPKINS        12   \n",
       "541905    581587     22899         CHILDREN'S APRON DOLLY GIRL          6   \n",
       "541906    581587     23254        CHILDRENS CUTLERY DOLLY GIRL          4   \n",
       "541907    581587     23255      CHILDRENS CUTLERY CIRCUS PARADE         4   \n",
       "541908    581587     22138        BAKING SET 9 PIECE RETROSPOT          3   \n",
       "\n",
       "          InvoiceDate  UnitPrice  CustomerID         Country  TotalRevenue  \n",
       "0        12/1/10 8:26       2.55     17850.0  United Kingdom         15.30  \n",
       "1        12/1/10 8:26       3.39     17850.0  United Kingdom         20.34  \n",
       "2        12/1/10 8:26       2.75     17850.0  United Kingdom         22.00  \n",
       "3        12/1/10 8:26       3.39     17850.0  United Kingdom         20.34  \n",
       "4        12/1/10 8:26       3.39     17850.0  United Kingdom         20.34  \n",
       "...               ...        ...         ...             ...           ...  \n",
       "541904  12/9/11 12:50       0.85     12680.0          France         10.20  \n",
       "541905  12/9/11 12:50       2.10     12680.0          France         12.60  \n",
       "541906  12/9/11 12:50       4.15     12680.0          France         16.60  \n",
       "541907  12/9/11 12:50       4.15     12680.0          France         16.60  \n",
       "541908  12/9/11 12:50       4.95     12680.0          France         14.85  \n",
       "\n",
       "[536641 rows x 9 columns]"
      ]
     },
     "execution_count": 187,
     "metadata": {},
     "output_type": "execute_result"
    }
   ],
   "source": [
    "#Remove duplicate rows\n",
    "df.drop_duplicates()"
   ]
  },
  {
   "cell_type": "markdown",
   "id": "36b70398",
   "metadata": {},
   "source": [
    "We could not find any value to impute null values in CustomerID column since all entries for a particular InvoiceNo have missing CustomerID if that particular InvoiceNo has null CustomerID in even one entry. So we will drop all rows having null values in CustomerID."
   ]
  },
  {
   "cell_type": "code",
   "execution_count": 188,
   "id": "0ac154cb",
   "metadata": {},
   "outputs": [
    {
     "data": {
      "text/plain": [
       "(406829, 9)"
      ]
     },
     "execution_count": 188,
     "metadata": {},
     "output_type": "execute_result"
    }
   ],
   "source": [
    "df = df.dropna()\n",
    "df.shape"
   ]
  },
  {
   "cell_type": "code",
   "execution_count": 189,
   "id": "8f61c704",
   "metadata": {},
   "outputs": [
    {
     "data": {
      "text/plain": [
       "<AxesSubplot:>"
      ]
     },
     "execution_count": 189,
     "metadata": {},
     "output_type": "execute_result"
    },
    {
     "data": {
      "image/png": "[encoded data removed]",
      "text/plain": [
       "<Figure size 432x288 with 1 Axes>"
      ]
     },
     "metadata": {
      "needs_background": "light"
     },
     "output_type": "display_data"
    }
   ],
   "source": [
    "#Checking null values in the dataset\n",
    "sns.heatmap(df.isnull(), cbar=False,cmap=['black','yellow'])"
   ]
  },
  {
   "cell_type": "code",
   "execution_count": 190,
   "id": "aada1647",
   "metadata": {},
   "outputs": [
    {
     "data": {
      "text/plain": [
       "InvoiceNo       0\n",
       "StockCode       0\n",
       "Description     0\n",
       "Quantity        0\n",
       "InvoiceDate     0\n",
       "UnitPrice       0\n",
       "CustomerID      0\n",
       "Country         0\n",
       "TotalRevenue    0\n",
       "dtype: int64"
      ]
     },
     "execution_count": 190,
     "metadata": {},
     "output_type": "execute_result"
    }
   ],
   "source": [
    "df.isnull().sum()"
   ]
  },
  {
   "cell_type": "code",
   "execution_count": 191,
   "id": "82e57905",
   "metadata": {},
   "outputs": [
    {
     "name": "stdout",
     "output_type": "stream",
     "text": [
      "<class 'pandas.core.frame.DataFrame'>\n",
      "Int64Index: 406829 entries, 0 to 541908\n",
      "Data columns (total 9 columns):\n",
      " #   Column        Non-Null Count   Dtype  \n",
      "---  ------        --------------   -----  \n",
      " 0   InvoiceNo     406829 non-null  object \n",
      " 1   StockCode     406829 non-null  object \n",
      " 2   Description   406829 non-null  object \n",
      " 3   Quantity      406829 non-null  int64  \n",
      " 4   InvoiceDate   406829 non-null  object \n",
      " 5   UnitPrice     406829 non-null  float64\n",
      " 6   CustomerID    406829 non-null  float64\n",
      " 7   Country       406829 non-null  object \n",
      " 8   TotalRevenue  406829 non-null  float64\n",
      "dtypes: float64(3), int64(1), object(5)\n",
      "memory usage: 31.0+ MB\n"
     ]
    }
   ],
   "source": [
    "df.info()"
   ]
  },
  {
   "cell_type": "code",
   "execution_count": 192,
   "id": "7a93f920",
   "metadata": {},
   "outputs": [
    {
     "name": "stdout",
     "output_type": "stream",
     "text": [
      "576339    542\n",
      "579196    533\n",
      "580727    529\n",
      "578270    442\n",
      "573576    435\n",
      "         ... \n",
      "554155      1\n",
      "570248      1\n",
      "545414      1\n",
      "545418      1\n",
      "565192      1\n",
      "Name: InvoiceNo, Length: 22190, dtype: int64\n",
      "****************************************\n",
      "85123A    2077\n",
      "22423     1905\n",
      "85099B    1662\n",
      "84879     1418\n",
      "47566     1416\n",
      "          ... \n",
      "84620        1\n",
      "90038B       1\n",
      "84551        1\n",
      "84614A       1\n",
      "20957        1\n",
      "Name: StockCode, Length: 3684, dtype: int64\n",
      "****************************************\n",
      "WHITE HANGING HEART T-LIGHT HOLDER    2070\n",
      "REGENCY CAKESTAND 3 TIER              1905\n",
      "JUMBO BAG RED RETROSPOT               1662\n",
      "ASSORTED COLOUR BIRD ORNAMENT         1418\n",
      "PARTY BUNTING                         1416\n",
      "                                      ... \n",
      "ANTIQUE RASPBERRY FLOWER EARRINGS        1\n",
      "WALL ART,ONLY ONE PERSON                 1\n",
      "GOLD/AMBER DROP EARRINGS W LEAF          1\n",
      "INCENSE BAZAAR PEACH                     1\n",
      "PINK BAROQUE FLOCK CANDLE HOLDER         1\n",
      "Name: Description, Length: 3896, dtype: int64\n",
      "****************************************\n",
      " 1        73314\n",
      " 12       60033\n",
      " 2        58003\n",
      " 6        37688\n",
      " 4        32183\n",
      "          ...  \n",
      " 828          1\n",
      " 560          1\n",
      "-408          1\n",
      " 512          1\n",
      "-80995        1\n",
      "Name: Quantity, Length: 436, dtype: int64\n",
      "****************************************\n",
      "11/14/11 15:27    543\n",
      "11/28/11 15:54    534\n",
      "12/5/11 17:17     530\n",
      "11/23/11 13:39    444\n",
      "10/31/11 14:09    436\n",
      "                 ... \n",
      "11/15/11 10:54      1\n",
      "4/8/11 13:20        1\n",
      "9/15/11 17:02       1\n",
      "9/15/11 16:57       1\n",
      "3/21/11 11:02       1\n",
      "Name: InvoiceDate, Length: 20460, dtype: int64\n",
      "****************************************\n",
      "1.25      46555\n",
      "1.65      37503\n",
      "2.95      27211\n",
      "0.85      26396\n",
      "0.42      22032\n",
      "          ...  \n",
      "3.56          1\n",
      "4.37          1\n",
      "6.89          1\n",
      "0.98          1\n",
      "224.69        1\n",
      "Name: UnitPrice, Length: 620, dtype: int64\n",
      "****************************************\n",
      "17841.0    7983\n",
      "14911.0    5903\n",
      "14096.0    5128\n",
      "12748.0    4642\n",
      "14606.0    2782\n",
      "           ... \n",
      "15070.0       1\n",
      "15753.0       1\n",
      "17065.0       1\n",
      "16881.0       1\n",
      "16995.0       1\n",
      "Name: CustomerID, Length: 4372, dtype: int64\n",
      "****************************************\n",
      "United Kingdom          361878\n",
      "Germany                   9495\n",
      "France                    8491\n",
      "EIRE                      7485\n",
      "Spain                     2533\n",
      "Netherlands               2371\n",
      "Belgium                   2069\n",
      "Switzerland               1877\n",
      "Portugal                  1480\n",
      "Australia                 1259\n",
      "Norway                    1086\n",
      "Italy                      803\n",
      "Channel Islands            758\n",
      "Finland                    695\n",
      "Cyprus                     622\n",
      "Sweden                     462\n",
      "Austria                    401\n",
      "Denmark                    389\n",
      "Japan                      358\n",
      "Poland                     341\n",
      "USA                        291\n",
      "Israel                     250\n",
      "Unspecified                244\n",
      "Singapore                  229\n",
      "Iceland                    182\n",
      "Canada                     151\n",
      "Greece                     146\n",
      "Malta                      127\n",
      "United Arab Emirates        68\n",
      "European Community          61\n",
      "RSA                         58\n",
      "Lebanon                     45\n",
      "Lithuania                   35\n",
      "Brazil                      32\n",
      "Czech Republic              30\n",
      "Bahrain                     17\n",
      "Saudi Arabia                10\n",
      "Name: Country, dtype: int64\n",
      "****************************************\n",
      " 15.00     20082\n",
      " 17.70      9174\n",
      " 16.50      8490\n",
      " 10.20      8028\n",
      " 19.80      7625\n",
      "           ...  \n",
      " 743.06        1\n",
      "-1.76          1\n",
      "-54.24         1\n",
      "-7.12          1\n",
      " 66.36         1\n",
      "Name: TotalRevenue, Length: 4041, dtype: int64\n",
      "****************************************\n"
     ]
    }
   ],
   "source": [
    "#Lets check the value count of each column to see if there are any unexpected and unwanted entries present in the column.\n",
    "for i in df.columns:\n",
    "        print(df[i].value_counts())\n",
    "        print('****************************************')"
   ]
  },
  {
   "cell_type": "code",
   "execution_count": 193,
   "id": "c2630945",
   "metadata": {},
   "outputs": [
    {
     "data": {
      "text/html": [
       "<div>\n",
       "<style scoped>\n",
       "    .dataframe tbody tr th:only-of-type {\n",
       "        vertical-align: middle;\n",
       "    }\n",
       "\n",
       "    .dataframe tbody tr th {\n",
       "        vertical-align: top;\n",
       "    }\n",
       "\n",
       "    .dataframe thead th {\n",
       "        text-align: right;\n",
       "    }\n",
       "</style>\n",
       "<table border=\"1\" class=\"dataframe\">\n",
       "  <thead>\n",
       "    <tr style=\"text-align: right;\">\n",
       "      <th></th>\n",
       "      <th>Quantity</th>\n",
       "      <th>UnitPrice</th>\n",
       "      <th>CustomerID</th>\n",
       "      <th>TotalRevenue</th>\n",
       "    </tr>\n",
       "  </thead>\n",
       "  <tbody>\n",
       "    <tr>\n",
       "      <th>count</th>\n",
       "      <td>406829.000000</td>\n",
       "      <td>406829.000000</td>\n",
       "      <td>406829.000000</td>\n",
       "      <td>406829.000000</td>\n",
       "    </tr>\n",
       "    <tr>\n",
       "      <th>mean</th>\n",
       "      <td>12.061303</td>\n",
       "      <td>3.460471</td>\n",
       "      <td>15287.690570</td>\n",
       "      <td>20.401854</td>\n",
       "    </tr>\n",
       "    <tr>\n",
       "      <th>std</th>\n",
       "      <td>248.693370</td>\n",
       "      <td>69.315162</td>\n",
       "      <td>1713.600303</td>\n",
       "      <td>427.591718</td>\n",
       "    </tr>\n",
       "    <tr>\n",
       "      <th>min</th>\n",
       "      <td>-80995.000000</td>\n",
       "      <td>0.000000</td>\n",
       "      <td>12346.000000</td>\n",
       "      <td>-168469.600000</td>\n",
       "    </tr>\n",
       "    <tr>\n",
       "      <th>25%</th>\n",
       "      <td>2.000000</td>\n",
       "      <td>1.250000</td>\n",
       "      <td>13953.000000</td>\n",
       "      <td>4.200000</td>\n",
       "    </tr>\n",
       "    <tr>\n",
       "      <th>50%</th>\n",
       "      <td>5.000000</td>\n",
       "      <td>1.950000</td>\n",
       "      <td>15152.000000</td>\n",
       "      <td>11.100000</td>\n",
       "    </tr>\n",
       "    <tr>\n",
       "      <th>75%</th>\n",
       "      <td>12.000000</td>\n",
       "      <td>3.750000</td>\n",
       "      <td>16791.000000</td>\n",
       "      <td>19.500000</td>\n",
       "    </tr>\n",
       "    <tr>\n",
       "      <th>max</th>\n",
       "      <td>80995.000000</td>\n",
       "      <td>38970.000000</td>\n",
       "      <td>18287.000000</td>\n",
       "      <td>168469.600000</td>\n",
       "    </tr>\n",
       "  </tbody>\n",
       "</table>\n",
       "</div>"
      ],
      "text/plain": [
       "            Quantity      UnitPrice     CustomerID   TotalRevenue\n",
       "count  406829.000000  406829.000000  406829.000000  406829.000000\n",
       "mean       12.061303       3.460471   15287.690570      20.401854\n",
       "std       248.693370      69.315162    1713.600303     427.591718\n",
       "min    -80995.000000       0.000000   12346.000000 -168469.600000\n",
       "25%         2.000000       1.250000   13953.000000       4.200000\n",
       "50%         5.000000       1.950000   15152.000000      11.100000\n",
       "75%        12.000000       3.750000   16791.000000      19.500000\n",
       "max     80995.000000   38970.000000   18287.000000  168469.600000"
      ]
     },
     "execution_count": 193,
     "metadata": {},
     "output_type": "execute_result"
    }
   ],
   "source": [
    "#Checking description of data set\n",
    "df.describe()"
   ]
  },
  {
   "cell_type": "markdown",
   "id": "b5b85187",
   "metadata": {},
   "source": [
    "From above description we can say that,\n",
    "\n",
    "Q- What was the average quantity of items ordered overall?\n",
    "\n",
    "Ans: Approx 12\n",
    "    \n",
    "Q- What is the average unit price of each item?\n",
    "\n",
    "Ans:3.4"
   ]
  },
  {
   "cell_type": "markdown",
   "id": "f21225c4",
   "metadata": {},
   "source": [
    "From the table above, it can be seen that there are orders with negative quantity — most likely returns\n",
    "\n",
    "Lets inspect the purchases with returns"
   ]
  },
  {
   "cell_type": "code",
   "execution_count": 194,
   "id": "b30f86e8",
   "metadata": {},
   "outputs": [
    {
     "data": {
      "text/html": [
       "<div>\n",
       "<style scoped>\n",
       "    .dataframe tbody tr th:only-of-type {\n",
       "        vertical-align: middle;\n",
       "    }\n",
       "\n",
       "    .dataframe tbody tr th {\n",
       "        vertical-align: top;\n",
       "    }\n",
       "\n",
       "    .dataframe thead th {\n",
       "        text-align: right;\n",
       "    }\n",
       "</style>\n",
       "<table border=\"1\" class=\"dataframe\">\n",
       "  <thead>\n",
       "    <tr style=\"text-align: right;\">\n",
       "      <th></th>\n",
       "      <th>InvoiceNo</th>\n",
       "      <th>StockCode</th>\n",
       "      <th>Description</th>\n",
       "      <th>Quantity</th>\n",
       "      <th>InvoiceDate</th>\n",
       "      <th>UnitPrice</th>\n",
       "      <th>CustomerID</th>\n",
       "      <th>Country</th>\n",
       "      <th>TotalRevenue</th>\n",
       "    </tr>\n",
       "  </thead>\n",
       "  <tbody>\n",
       "    <tr>\n",
       "      <th>141</th>\n",
       "      <td>C536379</td>\n",
       "      <td>D</td>\n",
       "      <td>Discount</td>\n",
       "      <td>-1</td>\n",
       "      <td>12/1/10 9:41</td>\n",
       "      <td>27.50</td>\n",
       "      <td>14527.0</td>\n",
       "      <td>United Kingdom</td>\n",
       "      <td>-27.50</td>\n",
       "    </tr>\n",
       "    <tr>\n",
       "      <th>154</th>\n",
       "      <td>C536383</td>\n",
       "      <td>35004C</td>\n",
       "      <td>SET OF 3 COLOURED  FLYING DUCKS</td>\n",
       "      <td>-1</td>\n",
       "      <td>12/1/10 9:49</td>\n",
       "      <td>4.65</td>\n",
       "      <td>15311.0</td>\n",
       "      <td>United Kingdom</td>\n",
       "      <td>-4.65</td>\n",
       "    </tr>\n",
       "    <tr>\n",
       "      <th>235</th>\n",
       "      <td>C536391</td>\n",
       "      <td>22556</td>\n",
       "      <td>PLASTERS IN TIN CIRCUS PARADE</td>\n",
       "      <td>-12</td>\n",
       "      <td>12/1/10 10:24</td>\n",
       "      <td>1.65</td>\n",
       "      <td>17548.0</td>\n",
       "      <td>United Kingdom</td>\n",
       "      <td>-19.80</td>\n",
       "    </tr>\n",
       "    <tr>\n",
       "      <th>236</th>\n",
       "      <td>C536391</td>\n",
       "      <td>21984</td>\n",
       "      <td>PACK OF 12 PINK PAISLEY TISSUES</td>\n",
       "      <td>-24</td>\n",
       "      <td>12/1/10 10:24</td>\n",
       "      <td>0.29</td>\n",
       "      <td>17548.0</td>\n",
       "      <td>United Kingdom</td>\n",
       "      <td>-6.96</td>\n",
       "    </tr>\n",
       "    <tr>\n",
       "      <th>237</th>\n",
       "      <td>C536391</td>\n",
       "      <td>21983</td>\n",
       "      <td>PACK OF 12 BLUE PAISLEY TISSUES</td>\n",
       "      <td>-24</td>\n",
       "      <td>12/1/10 10:24</td>\n",
       "      <td>0.29</td>\n",
       "      <td>17548.0</td>\n",
       "      <td>United Kingdom</td>\n",
       "      <td>-6.96</td>\n",
       "    </tr>\n",
       "  </tbody>\n",
       "</table>\n",
       "</div>"
      ],
      "text/plain": [
       "    InvoiceNo StockCode                       Description  Quantity  \\\n",
       "141   C536379         D                          Discount        -1   \n",
       "154   C536383    35004C   SET OF 3 COLOURED  FLYING DUCKS        -1   \n",
       "235   C536391     22556    PLASTERS IN TIN CIRCUS PARADE        -12   \n",
       "236   C536391     21984  PACK OF 12 PINK PAISLEY TISSUES        -24   \n",
       "237   C536391     21983  PACK OF 12 BLUE PAISLEY TISSUES        -24   \n",
       "\n",
       "       InvoiceDate  UnitPrice  CustomerID         Country  TotalRevenue  \n",
       "141   12/1/10 9:41      27.50     14527.0  United Kingdom        -27.50  \n",
       "154   12/1/10 9:49       4.65     15311.0  United Kingdom         -4.65  \n",
       "235  12/1/10 10:24       1.65     17548.0  United Kingdom        -19.80  \n",
       "236  12/1/10 10:24       0.29     17548.0  United Kingdom         -6.96  \n",
       "237  12/1/10 10:24       0.29     17548.0  United Kingdom         -6.96  "
      ]
     },
     "execution_count": 194,
     "metadata": {},
     "output_type": "execute_result"
    }
   ],
   "source": [
    "refund_df = df[df['TotalRevenue'] < 0]\n",
    "refund_df.head()"
   ]
  },
  {
   "cell_type": "code",
   "execution_count": 195,
   "id": "f64ccf7d",
   "metadata": {},
   "outputs": [
    {
     "name": "stdout",
     "output_type": "stream",
     "text": [
      "There are 8905 transactions for the returns\n"
     ]
    }
   ],
   "source": [
    "print(f'There are {len(refund_df)} transactions for the returns')"
   ]
  },
  {
   "cell_type": "code",
   "execution_count": 196,
   "id": "8312afd9",
   "metadata": {},
   "outputs": [
    {
     "data": {
      "text/plain": [
       "United Kingdom        7533\n",
       "Germany                453\n",
       "EIRE                   247\n",
       "France                 149\n",
       "USA                    112\n",
       "Australia               74\n",
       "Spain                   48\n",
       "Italy                   45\n",
       "Belgium                 38\n",
       "Japan                   37\n",
       "Switzerland             35\n",
       "Portugal                18\n",
       "Malta                   15\n",
       "Norway                  14\n",
       "Poland                  11\n",
       "Sweden                  11\n",
       "Channel Islands         10\n",
       "Finland                 10\n",
       "Denmark                  9\n",
       "Cyprus                   8\n",
       "Netherlands              8\n",
       "Singapore                7\n",
       "Czech Republic           5\n",
       "Austria                  3\n",
       "Israel                   2\n",
       "Saudi Arabia             1\n",
       "European Community       1\n",
       "Greece                   1\n",
       "Name: Country, dtype: int64"
      ]
     },
     "execution_count": 196,
     "metadata": {},
     "output_type": "execute_result"
    }
   ],
   "source": [
    "# checking the countries that have most number of returns\n",
    "refund_df['Country'].value_counts()"
   ]
  },
  {
   "cell_type": "code",
   "execution_count": 197,
   "id": "9ad5dd5d",
   "metadata": {},
   "outputs": [
    {
     "data": {
      "text/plain": [
       "REGENCY CAKESTAND 3 TIER              181\n",
       "Manual                                175\n",
       "POSTAGE                                97\n",
       "JAM MAKING SET WITH JARS               86\n",
       "Discount                               77\n",
       "SET OF 3 CAKE TINS PANTRY DESIGN       73\n",
       "STRAWBERRY CERAMIC TRINKET BOX         55\n",
       "ROSES REGENCY TEACUP AND SAUCER        53\n",
       "RECIPE BOX PANTRY YELLOW DESIGN        47\n",
       "WOOD 2 DRAWER CABINET WHITE FINISH     45\n",
       "Name: Description, dtype: int64"
      ]
     },
     "execution_count": 197,
     "metadata": {},
     "output_type": "execute_result"
    }
   ],
   "source": [
    "#Q- top 10 products that are most returned?\n",
    "refund_df['Description'].value_counts().head(10)"
   ]
  },
  {
   "cell_type": "code",
   "execution_count": 198,
   "id": "88726706",
   "metadata": {},
   "outputs": [
    {
     "data": {
      "text/plain": [
       "(397924, 9)"
      ]
     },
     "execution_count": 198,
     "metadata": {},
     "output_type": "execute_result"
    }
   ],
   "source": [
    "df=df[df['Quantity']>=0]\n",
    "df.shape"
   ]
  },
  {
   "cell_type": "markdown",
   "id": "c57a4328",
   "metadata": {},
   "source": [
    "By removing the returns, we create a bias in the dataset."
   ]
  },
  {
   "cell_type": "markdown",
   "id": "98a29e02",
   "metadata": {},
   "source": [
    "Q- How many customers are repeat customers?"
   ]
  },
  {
   "cell_type": "code",
   "execution_count": 199,
   "id": "b8b79b5a",
   "metadata": {},
   "outputs": [
    {
     "data": {
      "text/plain": [
       "CustomerID\n",
       "12346.0     1\n",
       "12347.0     7\n",
       "12348.0     4\n",
       "12349.0     1\n",
       "12350.0     1\n",
       "           ..\n",
       "18280.0     1\n",
       "18281.0     1\n",
       "18282.0     2\n",
       "18283.0    16\n",
       "18287.0     3\n",
       "Name: InvoiceNo, Length: 4339, dtype: int64"
      ]
     },
     "metadata": {},
     "output_type": "display_data"
    }
   ],
   "source": [
    "Order_num = df.groupby(['CustomerID'])[['InvoiceNo']].nunique().apply(display)"
   ]
  },
  {
   "cell_type": "markdown",
   "id": "92cde6ca",
   "metadata": {},
   "source": [
    "As we can see, there are 4339 total customers. Let's see the number of repeat customers i.e. those who made >1 order"
   ]
  },
  {
   "cell_type": "code",
   "execution_count": 200,
   "id": "a4480e58",
   "metadata": {},
   "outputs": [
    {
     "data": {
      "text/plain": [
       "2845"
      ]
     },
     "execution_count": 200,
     "metadata": {},
     "output_type": "execute_result"
    }
   ],
   "source": [
    "mul_orders = pd.DataFrame(df.groupby(['CustomerID'])[['InvoiceNo']].nunique())\n",
    "mul_orders['InvoiceNo']=mul_orders['InvoiceNo'].astype(int)\n",
    "mul_orders=mul_orders[mul_orders['InvoiceNo']>1]\n",
    "len(mul_orders)"
   ]
  },
  {
   "cell_type": "markdown",
   "id": "f341ec66",
   "metadata": {},
   "source": [
    "As we can see, 2845 customers made a repeat purchase."
   ]
  },
  {
   "cell_type": "markdown",
   "id": "0a9b9cb7",
   "metadata": {},
   "source": [
    "Q- Who are the most frequent shoppers?"
   ]
  },
  {
   "cell_type": "code",
   "execution_count": 201,
   "id": "e93f3215",
   "metadata": {},
   "outputs": [
    {
     "data": {
      "text/plain": [
       "17841.0    7847\n",
       "14911.0    5677\n",
       "14096.0    5111\n",
       "12748.0    4596\n",
       "14606.0    2700\n",
       "Name: CustomerID, dtype: int64"
      ]
     },
     "execution_count": 201,
     "metadata": {},
     "output_type": "execute_result"
    }
   ],
   "source": [
    "df[\"CustomerID\"].value_counts().head()"
   ]
  },
  {
   "cell_type": "markdown",
   "id": "873d5462",
   "metadata": {},
   "source": [
    "Q-Number of unique products?"
   ]
  },
  {
   "cell_type": "code",
   "execution_count": 202,
   "id": "f9dcdb67",
   "metadata": {},
   "outputs": [
    {
     "data": {
      "text/plain": [
       "3665"
      ]
     },
     "execution_count": 202,
     "metadata": {},
     "output_type": "execute_result"
    }
   ],
   "source": [
    "df[\"StockCode\"].nunique()"
   ]
  },
  {
   "cell_type": "markdown",
   "id": "ad500423",
   "metadata": {},
   "source": [
    "Q-Top 5 products bought?"
   ]
  },
  {
   "cell_type": "code",
   "execution_count": 203,
   "id": "fc75f8c6",
   "metadata": {},
   "outputs": [
    {
     "data": {
      "text/plain": [
       "WHITE HANGING HEART T-LIGHT HOLDER    2028\n",
       "REGENCY CAKESTAND 3 TIER              1724\n",
       "JUMBO BAG RED RETROSPOT               1618\n",
       "ASSORTED COLOUR BIRD ORNAMENT         1408\n",
       "PARTY BUNTING                         1397\n",
       "Name: Description, dtype: int64"
      ]
     },
     "execution_count": 203,
     "metadata": {},
     "output_type": "execute_result"
    }
   ],
   "source": [
    "df[\"Description\"].value_counts().head()"
   ]
  },
  {
   "cell_type": "markdown",
   "id": "ca6e1210",
   "metadata": {},
   "source": [
    "Q-Which countries placed the most orders?"
   ]
  },
  {
   "cell_type": "code",
   "execution_count": 204,
   "id": "fd11c9b6",
   "metadata": {},
   "outputs": [
    {
     "data": {
      "text/plain": [
       "United Kingdom    354345\n",
       "Germany             9042\n",
       "France              8342\n",
       "EIRE                7238\n",
       "Spain               2485\n",
       "Name: Country, dtype: int64"
      ]
     },
     "execution_count": 204,
     "metadata": {},
     "output_type": "execute_result"
    }
   ],
   "source": [
    "df['Country'].value_counts().head()"
   ]
  },
  {
   "cell_type": "markdown",
   "id": "a2d6d0f7",
   "metadata": {},
   "source": [
    "Q-Which countries spent the most?"
   ]
  },
  {
   "cell_type": "code",
   "execution_count": 205,
   "id": "42b4025a",
   "metadata": {},
   "outputs": [
    {
     "data": {
      "text/html": [
       "<div>\n",
       "<style scoped>\n",
       "    .dataframe tbody tr th:only-of-type {\n",
       "        vertical-align: middle;\n",
       "    }\n",
       "\n",
       "    .dataframe tbody tr th {\n",
       "        vertical-align: top;\n",
       "    }\n",
       "\n",
       "    .dataframe thead th {\n",
       "        text-align: right;\n",
       "    }\n",
       "</style>\n",
       "<table border=\"1\" class=\"dataframe\">\n",
       "  <thead>\n",
       "    <tr style=\"text-align: right;\">\n",
       "      <th></th>\n",
       "      <th>TotalRevenue</th>\n",
       "    </tr>\n",
       "    <tr>\n",
       "      <th>Country</th>\n",
       "      <th></th>\n",
       "    </tr>\n",
       "  </thead>\n",
       "  <tbody>\n",
       "    <tr>\n",
       "      <th>United Kingdom</th>\n",
       "      <td>7308391.554</td>\n",
       "    </tr>\n",
       "    <tr>\n",
       "      <th>Netherlands</th>\n",
       "      <td>285446.340</td>\n",
       "    </tr>\n",
       "    <tr>\n",
       "      <th>EIRE</th>\n",
       "      <td>265545.900</td>\n",
       "    </tr>\n",
       "    <tr>\n",
       "      <th>Germany</th>\n",
       "      <td>228867.140</td>\n",
       "    </tr>\n",
       "    <tr>\n",
       "      <th>France</th>\n",
       "      <td>209024.050</td>\n",
       "    </tr>\n",
       "  </tbody>\n",
       "</table>\n",
       "</div>"
      ],
      "text/plain": [
       "                TotalRevenue\n",
       "Country                     \n",
       "United Kingdom   7308391.554\n",
       "Netherlands       285446.340\n",
       "EIRE              265545.900\n",
       "Germany           228867.140\n",
       "France            209024.050"
      ]
     },
     "execution_count": 205,
     "metadata": {},
     "output_type": "execute_result"
    }
   ],
   "source": [
    "df[\"TotalRevenue\"] = df[\"Quantity\"] * df[\"UnitPrice\"]\n",
    "df.groupby(\"Country\").agg({\"TotalRevenue\": \"sum\"}).sort_values(by = \"TotalRevenue\", ascending = False).head()"
   ]
  },
  {
   "cell_type": "markdown",
   "id": "92e16ad0",
   "metadata": {},
   "source": [
    "Q-Customers who spent the most?"
   ]
  },
  {
   "cell_type": "code",
   "execution_count": 206,
   "id": "cadc1d96",
   "metadata": {},
   "outputs": [
    {
     "data": {
      "text/html": [
       "<div>\n",
       "<style scoped>\n",
       "    .dataframe tbody tr th:only-of-type {\n",
       "        vertical-align: middle;\n",
       "    }\n",
       "\n",
       "    .dataframe tbody tr th {\n",
       "        vertical-align: top;\n",
       "    }\n",
       "\n",
       "    .dataframe thead th {\n",
       "        text-align: right;\n",
       "    }\n",
       "</style>\n",
       "<table border=\"1\" class=\"dataframe\">\n",
       "  <thead>\n",
       "    <tr style=\"text-align: right;\">\n",
       "      <th></th>\n",
       "      <th>TotalRevenue</th>\n",
       "    </tr>\n",
       "    <tr>\n",
       "      <th>InvoiceNo</th>\n",
       "      <th></th>\n",
       "    </tr>\n",
       "  </thead>\n",
       "  <tbody>\n",
       "    <tr>\n",
       "      <th>581483</th>\n",
       "      <td>168469.60</td>\n",
       "    </tr>\n",
       "    <tr>\n",
       "      <th>541431</th>\n",
       "      <td>77183.60</td>\n",
       "    </tr>\n",
       "    <tr>\n",
       "      <th>556444</th>\n",
       "      <td>38970.00</td>\n",
       "    </tr>\n",
       "    <tr>\n",
       "      <th>567423</th>\n",
       "      <td>31698.16</td>\n",
       "    </tr>\n",
       "    <tr>\n",
       "      <th>556917</th>\n",
       "      <td>22775.93</td>\n",
       "    </tr>\n",
       "  </tbody>\n",
       "</table>\n",
       "</div>"
      ],
      "text/plain": [
       "           TotalRevenue\n",
       "InvoiceNo              \n",
       "581483        168469.60\n",
       "541431         77183.60\n",
       "556444         38970.00\n",
       "567423         31698.16\n",
       "556917         22775.93"
      ]
     },
     "execution_count": 206,
     "metadata": {},
     "output_type": "execute_result"
    }
   ],
   "source": [
    "df.groupby(\"InvoiceNo\").agg({\"TotalRevenue\": \"sum\"}).sort_values(by = \"TotalRevenue\", ascending = False).head()"
   ]
  },
  {
   "cell_type": "markdown",
   "id": "7e63d9d7",
   "metadata": {},
   "source": [
    "# Visualization:"
   ]
  },
  {
   "cell_type": "code",
   "execution_count": 207,
   "id": "8f4a051d",
   "metadata": {},
   "outputs": [
    {
     "name": "stdout",
     "output_type": "stream",
     "text": [
      "['InvoiceNo', 'StockCode', 'Description', 'InvoiceDate', 'Country']\n"
     ]
    }
   ],
   "source": [
    "# checking for categorical columns\n",
    "categorical_columns=[]\n",
    "for i in df.dtypes.index:\n",
    "    if df.dtypes[i]=='object':\n",
    "        categorical_columns.append(i)\n",
    "print(categorical_columns)"
   ]
  },
  {
   "cell_type": "code",
   "execution_count": 208,
   "id": "97bac13e",
   "metadata": {},
   "outputs": [
    {
     "name": "stdout",
     "output_type": "stream",
     "text": [
      "['Quantity', 'UnitPrice', 'CustomerID', 'TotalRevenue']\n"
     ]
    }
   ],
   "source": [
    "# Now checking for numerical columns\n",
    "numerical_columns=[]\n",
    "for i in df.dtypes.index:\n",
    "    if df.dtypes[i]!='object':\n",
    "        numerical_columns.append(i)\n",
    "print(numerical_columns)"
   ]
  },
  {
   "cell_type": "code",
   "execution_count": 209,
   "id": "e275bf74",
   "metadata": {},
   "outputs": [
    {
     "data": {
      "image/png": "[encoded data removed]",
      "text/plain": [
       "<Figure size 2160x720 with 1 Axes>"
      ]
     },
     "metadata": {
      "needs_background": "light"
     },
     "output_type": "display_data"
    }
   ],
   "source": [
    "# total order amount by country\n",
    "from textwrap import wrap\n",
    "country_order = df.groupby('Country').sum()['TotalRevenue'].nlargest(10)\n",
    "\n",
    "plt.figure(figsize = (30,10))\n",
    "ax = sns.barplot(x = country_order.index, y = country_order.values, palette = 'seismic_r')\n",
    "ax.set_xlabel('Country', fontsize = 20)\n",
    "ax.set_ylabel('Total Revenue Amount', fontsize = 20)\n",
    "ax.set_title('Top 10 Countries by Total Revenue Amount', fontsize = 30)\n",
    "\n",
    "labels = [ '\\n'.join(wrap(l, 15)) for l in country_order.index ]\n",
    "ax.set_xticklabels(labels, fontsize = 15)\n",
    "\n",
    "value_labels = []\n",
    "for x in country_order.values:\n",
    "    value_labels.append(str(int(x/1000))+' k')\n",
    "value_labels[0] = '6.82 M'\n",
    "\n",
    "for p, label in zip(ax.patches, value_labels):\n",
    "    ax.annotate(label, (p.get_x() + 0.26, p.get_height() + 2), fontsize = 15)"
   ]
  },
  {
   "cell_type": "code",
   "execution_count": 210,
   "id": "54d1a326",
   "metadata": {},
   "outputs": [
    {
     "data": {
      "image/png": "[encoded data removed]",
      "text/plain": [
       "<Figure size 2160x720 with 1 Axes>"
      ]
     },
     "metadata": {
      "needs_background": "light"
     },
     "output_type": "display_data"
    }
   ],
   "source": [
    "# top selling items by sales\n",
    "sales_order = df.groupby('Description').sum()['TotalRevenue'].nlargest(10)\n",
    "\n",
    "plt.figure(figsize = (30,10))\n",
    "ax = sns.barplot(x = sales_order.index, y = sales_order.values, palette = 'seismic_r')\n",
    "ax.set_xlabel('Product Description', fontsize = 20)\n",
    "ax.set_ylabel('Total Sales', fontsize = 20)\n",
    "ax.set_title('Top 10 Selling Products', fontsize = 30)\n",
    "\n",
    "labels = [ '\\n'.join(wrap(l, 15)) for l in sales_order.index ]\n",
    "ax.set_xticklabels(labels, fontsize = 15)\n",
    "\n",
    "value_labels = []\n",
    "for x in sales_order.values:\n",
    "    value_labels.append(str(int(x/1000))+' k')\n",
    "\n",
    "for p, label in zip(ax.patches, value_labels):\n",
    "    ax.annotate(label, (p.get_x() + 0.26, p.get_height() + 2), fontsize = 15)"
   ]
  },
  {
   "cell_type": "code",
   "execution_count": 211,
   "id": "9d92b1c0",
   "metadata": {},
   "outputs": [
    {
     "data": {
      "image/png": "[encoded data removed]",
      "text/plain": [
       "<Figure size 1296x504 with 1 Axes>"
      ]
     },
     "metadata": {
      "needs_background": "light"
     },
     "output_type": "display_data"
    }
   ],
   "source": [
    "# checking the different values for country in the dataset\n",
    "\n",
    "df['Country'].value_counts().head(20).plot.bar(figsize = (18, 7))\n",
    "plt.title('Top 20 Countries having Online Retail Market', fontsize = 20)\n",
    "plt.xlabel('Names of Countries')\n",
    "plt.ylabel('Count')\n",
    "plt.show()"
   ]
  },
  {
   "cell_type": "code",
   "execution_count": 212,
   "id": "f2cb9e85",
   "metadata": {},
   "outputs": [
    {
     "data": {
      "image/png": "[encoded data removed]",
      "text/plain": [
       "<Figure size 1296x504 with 1 Axes>"
      ]
     },
     "metadata": {
      "needs_background": "light"
     },
     "output_type": "display_data"
    }
   ],
   "source": [
    "# checking the different values for country in the dataset\n",
    "\n",
    "df['Country'].value_counts().tail(20).plot.bar(figsize = (18, 7))\n",
    "plt.title('Bottom 20 Countries having Online Retail Market', fontsize = 20)\n",
    "plt.xlabel('Names of Countries')\n",
    "plt.ylabel('Count')\n",
    "plt.show()\n",
    "     "
   ]
  },
  {
   "cell_type": "code",
   "execution_count": 213,
   "id": "9f19cfc8",
   "metadata": {},
   "outputs": [
    {
     "data": {
      "text/plain": [
       "Country\n",
       "Australia                 84209\n",
       "Austria                    4881\n",
       "Bahrain                     260\n",
       "Belgium                   23237\n",
       "Brazil                      356\n",
       "Canada                     2763\n",
       "Channel Islands            9491\n",
       "Cyprus                     6361\n",
       "Czech Republic              671\n",
       "Denmark                    8235\n",
       "EIRE                     140525\n",
       "European Community          499\n",
       "Finland                   10704\n",
       "France                   111472\n",
       "Germany                  119263\n",
       "Greece                     1557\n",
       "Iceland                    2458\n",
       "Israel                     4046\n",
       "Italy                      8112\n",
       "Japan                     26016\n",
       "Lebanon                     386\n",
       "Lithuania                   652\n",
       "Malta                       970\n",
       "Netherlands              200937\n",
       "Norway                    19338\n",
       "Poland                     3684\n",
       "Portugal                  16122\n",
       "RSA                         352\n",
       "Saudi Arabia                 80\n",
       "Singapore                  5241\n",
       "Spain                     27951\n",
       "Sweden                    36083\n",
       "Switzerland               30083\n",
       "USA                        2458\n",
       "United Arab Emirates        982\n",
       "United Kingdom          4269472\n",
       "Unspecified                1789\n",
       "Name: Quantity, dtype: int64"
      ]
     },
     "execution_count": 213,
     "metadata": {},
     "output_type": "execute_result"
    }
   ],
   "source": [
    "# checking how many quantity of products have been sold online from each country\n",
    "\n",
    "df['Quantity'].groupby(df['Country']).agg('sum')"
   ]
  },
  {
   "cell_type": "code",
   "execution_count": 214,
   "id": "9c25625c",
   "metadata": {},
   "outputs": [
    {
     "data": {
      "image/png": "[encoded data removed]",
      "text/plain": [
       "<Figure size 1080x504 with 1 Axes>"
      ]
     },
     "metadata": {
      "needs_background": "light"
     },
     "output_type": "display_data"
    }
   ],
   "source": [
    "# Having a look at the top 20 Countries in terms of Quantities according to the countries\n",
    "\n",
    "df['Quantity'].groupby(df['Country']).agg('sum').sort_values(ascending = False).head(20).plot.bar(figsize = (15, 7))\n",
    "\n",
    "plt.title('Top 20 Countries according to Quantity Sold Online', fontsize = 20)\n",
    "plt.xlabel('Names of the Countries')\n",
    "plt.ylabel('Number of Items Sold')\n",
    "plt.show()"
   ]
  },
  {
   "cell_type": "code",
   "execution_count": 215,
   "id": "725d2d49",
   "metadata": {},
   "outputs": [
    {
     "data": {
      "image/png": "[encoded data removed]",
      "text/plain": [
       "<Figure size 1080x504 with 1 Axes>"
      ]
     },
     "metadata": {
      "needs_background": "light"
     },
     "output_type": "display_data"
    }
   ],
   "source": [
    "\n",
    "# Having a look at the bottom 20 Countries in terms of Quantities according to the countries\n",
    "\n",
    "df['Quantity'].groupby(df['Country']).agg('sum').sort_values(ascending = True).head(20).plot.bar(figsize = (15, 7))\n",
    "\n",
    "plt.title('Bottom 20 Countries according to Quantity Sold Online', fontsize = 20)\n",
    "plt.xlabel('Names of the Countries')\n",
    "plt.ylabel('Number of Items Sold')\n",
    "plt.show()"
   ]
  },
  {
   "cell_type": "code",
   "execution_count": 216,
   "id": "8c5d93fb",
   "metadata": {},
   "outputs": [
    {
     "data": {
      "text/plain": [
       "Country\n",
       "United Kingdom          7308391.554\n",
       "Netherlands              285446.340\n",
       "EIRE                     265545.900\n",
       "Germany                  228867.140\n",
       "France                   209024.050\n",
       "Australia                138521.310\n",
       "Spain                     61577.110\n",
       "Switzerland               56443.950\n",
       "Belgium                   41196.340\n",
       "Sweden                    38378.330\n",
       "Japan                     37416.370\n",
       "Norway                    36165.440\n",
       "Portugal                  33439.890\n",
       "Finland                   22546.080\n",
       "Singapore                 21279.290\n",
       "Channel Islands           20450.440\n",
       "Denmark                   18955.340\n",
       "Italy                     17483.240\n",
       "Cyprus                    13590.380\n",
       "Austria                   10198.680\n",
       "Poland                     7334.650\n",
       "Israel                     7221.690\n",
       "Greece                     4760.520\n",
       "Iceland                    4310.000\n",
       "Canada                     3666.380\n",
       "USA                        3580.390\n",
       "Malta                      2725.590\n",
       "Unspecified                2667.070\n",
       "United Arab Emirates       1902.280\n",
       "Lebanon                    1693.880\n",
       "Lithuania                  1661.060\n",
       "European Community         1300.250\n",
       "Brazil                     1143.600\n",
       "RSA                        1002.310\n",
       "Czech Republic              826.740\n",
       "Bahrain                     548.400\n",
       "Saudi Arabia                145.920\n",
       "Name: TotalRevenue, dtype: float64"
      ]
     },
     "execution_count": 216,
     "metadata": {},
     "output_type": "execute_result"
    }
   ],
   "source": [
    "# looking at each country's sales(Total Price)\n",
    "\n",
    "df['TotalRevenue'].groupby(df['Country']).agg('sum').sort_values(ascending = False)"
   ]
  },
  {
   "cell_type": "code",
   "execution_count": 217,
   "id": "1d279170",
   "metadata": {},
   "outputs": [
    {
     "data": {
      "image/png": "[encoded data removed]",
      "text/plain": [
       "<Figure size 432x288 with 1 Axes>"
      ]
     },
     "metadata": {
      "needs_background": "light"
     },
     "output_type": "display_data"
    }
   ],
   "source": [
    "# looking the stockcode for the datset\n",
    "\n",
    "df['StockCode'].value_counts().head(20).plot.bar()\n",
    "plt.title('Most Popular Stock codes', fontsize = 20)\n",
    "plt.show()"
   ]
  },
  {
   "cell_type": "code",
   "execution_count": 218,
   "id": "5bd5c84b",
   "metadata": {},
   "outputs": [],
   "source": [
    "#Change type value [\"InvoiceDate\"] from object to datetime\n",
    "df['InvoiceDate'] = pd.to_datetime(df['InvoiceDate'])\n",
    "df['Year'] = pd.DatetimeIndex(df['InvoiceDate']).year\n",
    "df['Month'] = pd.DatetimeIndex(df['InvoiceDate']).month"
   ]
  },
  {
   "cell_type": "markdown",
   "id": "3d0ffe01",
   "metadata": {},
   "source": [
    "#### Amount of invoices per Month"
   ]
  },
  {
   "cell_type": "code",
   "execution_count": 219,
   "id": "c41e5e98",
   "metadata": {},
   "outputs": [
    {
     "data": {
      "image/png": "[encoded data removed]",
      "text/plain": [
       "<Figure size 432x288 with 1 Axes>"
      ]
     },
     "metadata": {
      "needs_background": "light"
     },
     "output_type": "display_data"
    }
   ],
   "source": [
    "df.groupby(['Year', 'Month']).InvoiceNo.count().plot(kind='bar', title='Amount of invoices per month')\n",
    "plt.show()"
   ]
  },
  {
   "cell_type": "markdown",
   "id": "0032560a",
   "metadata": {},
   "source": [
    "#### Amount of Customers per Month"
   ]
  },
  {
   "cell_type": "code",
   "execution_count": 220,
   "id": "e2ae3794",
   "metadata": {},
   "outputs": [
    {
     "data": {
      "image/png": "[encoded data removed]",
      "text/plain": [
       "<Figure size 432x288 with 1 Axes>"
      ]
     },
     "metadata": {
      "needs_background": "light"
     },
     "output_type": "display_data"
    }
   ],
   "source": [
    "df.groupby(['Year', 'Month']).CustomerID.count().plot(kind='bar', title='Amount of customers per month')\n",
    "plt.show()"
   ]
  },
  {
   "cell_type": "markdown",
   "id": "3e40de64",
   "metadata": {},
   "source": [
    "#### What´s the best day of the week to sale? What´s the best hour to sale ?"
   ]
  },
  {
   "cell_type": "code",
   "execution_count": 221,
   "id": "e4a4c304",
   "metadata": {},
   "outputs": [],
   "source": [
    "# HOUR\n",
    "df['Hour'] = df['InvoiceDate'].dt.hour\n",
    "\n",
    "# WEEKDAY. dt.weekday. The day of the week with Monday=0, Sunday=6.\n",
    "#This method is available on both Series with datetime values or DatetimeIndex.\n",
    "df['WeekDay']=df['InvoiceDate'].dt.weekday\n",
    "df['WeekDay'] = df['WeekDay'].replace({0:'Mon', 1:'Tus',2:'Wed', 3:'Thur', 4:'Fri', 5:'Sat', 6:'Sun'})"
   ]
  },
  {
   "cell_type": "code",
   "execution_count": 222,
   "id": "f0da2c9e",
   "metadata": {},
   "outputs": [
    {
     "data": {
      "image/png": "[encoded data removed]",
      "text/plain": [
       "<Figure size 432x288 with 1 Axes>"
      ]
     },
     "metadata": {
      "needs_background": "light"
     },
     "output_type": "display_data"
    }
   ],
   "source": [
    "df.groupby('WeekDay').TotalRevenue.sum().plot(kind='bar', title='Best Day Of the Week To Sell')\n",
    "plt.show()"
   ]
  },
  {
   "cell_type": "code",
   "execution_count": 223,
   "id": "a1c47825",
   "metadata": {},
   "outputs": [
    {
     "data": {
      "image/png": "[encoded data removed]",
      "text/plain": [
       "<Figure size 432x288 with 1 Axes>"
      ]
     },
     "metadata": {
      "needs_background": "light"
     },
     "output_type": "display_data"
    }
   ],
   "source": [
    "df.groupby('Hour').TotalRevenue.sum().plot(kind='bar', title='Best Hour To Sell')\n",
    "plt.show()"
   ]
  },
  {
   "cell_type": "markdown",
   "id": "3e276032",
   "metadata": {},
   "source": [
    "#### NO. OF PRODUCTS SOLD BY MONTH"
   ]
  },
  {
   "cell_type": "code",
   "execution_count": 224,
   "id": "2bb3b9d8",
   "metadata": {},
   "outputs": [
    {
     "data": {
      "text/plain": [
       "InvoiceDate\n",
       "2010-12-31    312280\n",
       "2011-01-31    349147\n",
       "2011-02-28    265638\n",
       "2011-03-31    348544\n",
       "2011-04-30    292225\n",
       "2011-05-31    373685\n",
       "2011-06-30    363699\n",
       "2011-07-31    369432\n",
       "2011-08-31    398938\n",
       "2011-09-30    544899\n",
       "2011-10-31    593908\n",
       "2011-11-30    681888\n",
       "2011-12-31    287413\n",
       "Freq: M, Name: Quantity, dtype: int64"
      ]
     },
     "execution_count": 224,
     "metadata": {},
     "output_type": "execute_result"
    }
   ],
   "source": [
    "df.set_index(\"InvoiceDate\", inplace= True)\n",
    "df.index = pd.to_datetime(df.index)\n",
    "df.resample(\"M\").sum()[\"Quantity\"]"
   ]
  },
  {
   "cell_type": "markdown",
   "id": "3c2b9bda",
   "metadata": {},
   "source": [
    "Observation:\n",
    "\n",
    "Maximum sales happen on Thursday and Tuesday around 10 AM to 1 PM and so we have to start triggering offers and special incentives on these days"
   ]
  },
  {
   "cell_type": "markdown",
   "id": "8038fd16",
   "metadata": {},
   "source": [
    "#### TOTAL REVENUE BY MONTH"
   ]
  },
  {
   "cell_type": "code",
   "execution_count": null,
   "id": "c43870e8",
   "metadata": {},
   "outputs": [],
   "source": [
    "df.resample(\"M\")[\"TotalRevenue\"].sum().round(2)"
   ]
  },
  {
   "cell_type": "markdown",
   "id": "d9cbe3b4",
   "metadata": {},
   "source": [
    "November was the month with the highest turnover"
   ]
  },
  {
   "cell_type": "code",
   "execution_count": 166,
   "id": "03260cbe",
   "metadata": {},
   "outputs": [
    {
     "data": {
      "text/plain": [
       "1161817.38"
      ]
     },
     "execution_count": 166,
     "metadata": {},
     "output_type": "execute_result"
    }
   ],
   "source": [
    "df.resample(\"M\")[\"TotalRevenue\"].sum().round(2).max()"
   ]
  },
  {
   "cell_type": "markdown",
   "id": "d291ec1b",
   "metadata": {},
   "source": [
    "#### BEST SELLER RANK. ( top 20 products)"
   ]
  },
  {
   "cell_type": "code",
   "execution_count": 167,
   "id": "77ea928c",
   "metadata": {},
   "outputs": [
    {
     "data": {
      "text/plain": [
       "Description\n",
       "PAPER CRAFT , LITTLE BIRDIE           80995\n",
       "MEDIUM CERAMIC TOP STORAGE JAR        77916\n",
       "WORLD WAR 2 GLIDERS ASSTD DESIGNS     54415\n",
       "JUMBO BAG RED RETROSPOT               46181\n",
       "WHITE HANGING HEART T-LIGHT HOLDER    36725\n",
       "ASSORTED COLOUR BIRD ORNAMENT         35362\n",
       "PACK OF 72 RETROSPOT CAKE CASES       33693\n",
       "POPCORN HOLDER                        30931\n",
       "RABBIT NIGHT LIGHT                    27202\n",
       "MINI PAINT SET VINTAGE                26076\n",
       "PACK OF 12 LONDON TISSUES             25345\n",
       "PACK OF 60 PINK PAISLEY CAKE CASES    24264\n",
       "BROCADE RING PURSE                    22963\n",
       "VICTORIAN GLASS HANGING T-LIGHT       22433\n",
       "ASSORTED COLOURS SILK FAN             21876\n",
       "RED  HARMONICA IN BOX                 20975\n",
       "JUMBO BAG PINK POLKADOT               20165\n",
       "SMALL POPCORN HOLDER                  18252\n",
       "LUNCH BAG RED RETROSPOT               17697\n",
       "60 TEATIME FAIRY CAKE CASES           17689\n",
       "Name: Quantity, dtype: int64"
      ]
     },
     "execution_count": 167,
     "metadata": {},
     "output_type": "execute_result"
    }
   ],
   "source": [
    "df.groupby(\"Description\")[\"Quantity\"].sum().sort_values(ascending = False).head(20)"
   ]
  },
  {
   "cell_type": "markdown",
   "id": "8dd7b082",
   "metadata": {},
   "source": [
    "### Proportion of one time and repeat customers"
   ]
  },
  {
   "cell_type": "code",
   "execution_count": 226,
   "id": "f497cdca",
   "metadata": {},
   "outputs": [
    {
     "data": {
      "image/png": "[encoded data removed]",
      "text/plain": [
       "<Figure size 432x288 with 1 Axes>"
      ]
     },
     "metadata": {},
     "output_type": "display_data"
    }
   ],
   "source": [
    "df_retail_uk_custid=df.CustomerID.value_counts().to_frame()\n",
    "df_retail_uk_custid['Repeat_one_time'] = np.where((df_retail_uk_custid.CustomerID>1), 'repeat', 'one-time')\n",
    "\n",
    "plt.style.use('ggplot')\n",
    "\n",
    "media_df=df_retail_uk_custid\n",
    "media_per_user_group=media_df.groupby(['Repeat_one_time'])['Repeat_one_time'].count().nlargest(2)\n",
    "media_per_user_group.plot(kind='pie', colors = ['teal','gold'], fontsize=12, autopct='%1.1f%%', startangle=90, pctdistance=0.85)\n",
    "plt.show()\n",
    "     "
   ]
  },
  {
   "cell_type": "markdown",
   "id": "17c85962",
   "metadata": {},
   "source": [
    "Observation:\n",
    "\n",
    "The percentage of repeat customers are substantially more than the percentage of one-time customers. Mostly customers are happy with the retail store, We have to convert the one-time customers into repeat customers by offering them good incentives and proper service."
   ]
  },
  {
   "cell_type": "code",
   "execution_count": 230,
   "id": "f543f704",
   "metadata": {},
   "outputs": [
    {
     "data": {
      "text/html": [
       "<div>\n",
       "<style scoped>\n",
       "    .dataframe tbody tr th:only-of-type {\n",
       "        vertical-align: middle;\n",
       "    }\n",
       "\n",
       "    .dataframe tbody tr th {\n",
       "        vertical-align: top;\n",
       "    }\n",
       "\n",
       "    .dataframe thead th {\n",
       "        text-align: right;\n",
       "    }\n",
       "</style>\n",
       "<table border=\"1\" class=\"dataframe\">\n",
       "  <thead>\n",
       "    <tr style=\"text-align: right;\">\n",
       "      <th></th>\n",
       "      <th>Quantity</th>\n",
       "      <th>UnitPrice</th>\n",
       "      <th>CustomerID</th>\n",
       "      <th>TotalRevenue</th>\n",
       "      <th>Year</th>\n",
       "      <th>Month</th>\n",
       "      <th>Hour</th>\n",
       "    </tr>\n",
       "  </thead>\n",
       "  <tbody>\n",
       "    <tr>\n",
       "      <th>Quantity</th>\n",
       "      <td>1.000000</td>\n",
       "      <td>-0.004561</td>\n",
       "      <td>-0.006411</td>\n",
       "      <td>0.908812</td>\n",
       "      <td>0.001595</td>\n",
       "      <td>-0.004006</td>\n",
       "      <td>-0.014532</td>\n",
       "    </tr>\n",
       "    <tr>\n",
       "      <th>UnitPrice</th>\n",
       "      <td>-0.004561</td>\n",
       "      <td>1.000000</td>\n",
       "      <td>-0.010863</td>\n",
       "      <td>0.081646</td>\n",
       "      <td>-0.000191</td>\n",
       "      <td>-0.005171</td>\n",
       "      <td>-0.000286</td>\n",
       "    </tr>\n",
       "    <tr>\n",
       "      <th>CustomerID</th>\n",
       "      <td>-0.006411</td>\n",
       "      <td>-0.010863</td>\n",
       "      <td>1.000000</td>\n",
       "      <td>-0.004104</td>\n",
       "      <td>-0.036352</td>\n",
       "      <td>0.030417</td>\n",
       "      <td>0.065852</td>\n",
       "    </tr>\n",
       "    <tr>\n",
       "      <th>TotalRevenue</th>\n",
       "      <td>0.908812</td>\n",
       "      <td>0.081646</td>\n",
       "      <td>-0.004104</td>\n",
       "      <td>1.000000</td>\n",
       "      <td>0.000431</td>\n",
       "      <td>-0.002733</td>\n",
       "      <td>-0.013209</td>\n",
       "    </tr>\n",
       "    <tr>\n",
       "      <th>Year</th>\n",
       "      <td>0.001595</td>\n",
       "      <td>-0.000191</td>\n",
       "      <td>-0.036352</td>\n",
       "      <td>0.000431</td>\n",
       "      <td>1.000000</td>\n",
       "      <td>-0.340655</td>\n",
       "      <td>-0.019763</td>\n",
       "    </tr>\n",
       "    <tr>\n",
       "      <th>Month</th>\n",
       "      <td>-0.004006</td>\n",
       "      <td>-0.005171</td>\n",
       "      <td>0.030417</td>\n",
       "      <td>-0.002733</td>\n",
       "      <td>-0.340655</td>\n",
       "      <td>1.000000</td>\n",
       "      <td>0.058213</td>\n",
       "    </tr>\n",
       "    <tr>\n",
       "      <th>Hour</th>\n",
       "      <td>-0.014532</td>\n",
       "      <td>-0.000286</td>\n",
       "      <td>0.065852</td>\n",
       "      <td>-0.013209</td>\n",
       "      <td>-0.019763</td>\n",
       "      <td>0.058213</td>\n",
       "      <td>1.000000</td>\n",
       "    </tr>\n",
       "  </tbody>\n",
       "</table>\n",
       "</div>"
      ],
      "text/plain": [
       "              Quantity  UnitPrice  CustomerID  TotalRevenue      Year  \\\n",
       "Quantity      1.000000  -0.004561   -0.006411      0.908812  0.001595   \n",
       "UnitPrice    -0.004561   1.000000   -0.010863      0.081646 -0.000191   \n",
       "CustomerID   -0.006411  -0.010863    1.000000     -0.004104 -0.036352   \n",
       "TotalRevenue  0.908812   0.081646   -0.004104      1.000000  0.000431   \n",
       "Year          0.001595  -0.000191   -0.036352      0.000431  1.000000   \n",
       "Month        -0.004006  -0.005171    0.030417     -0.002733 -0.340655   \n",
       "Hour         -0.014532  -0.000286    0.065852     -0.013209 -0.019763   \n",
       "\n",
       "                 Month      Hour  \n",
       "Quantity     -0.004006 -0.014532  \n",
       "UnitPrice    -0.005171 -0.000286  \n",
       "CustomerID    0.030417  0.065852  \n",
       "TotalRevenue -0.002733 -0.013209  \n",
       "Year         -0.340655 -0.019763  \n",
       "Month         1.000000  0.058213  \n",
       "Hour          0.058213  1.000000  "
      ]
     },
     "execution_count": 230,
     "metadata": {},
     "output_type": "execute_result"
    }
   ],
   "source": [
    "df.corr()"
   ]
  },
  {
   "cell_type": "markdown",
   "id": "dd334e09",
   "metadata": {},
   "source": [
    "Above are the correlations of all the pair of features.To get better visualization on the correlation of features,let me plot cor using heat map."
   ]
  },
  {
   "cell_type": "code",
   "execution_count": 231,
   "id": "c49e9b64",
   "metadata": {},
   "outputs": [
    {
     "data": {
      "image/png": "[encoded data removed]",
      "text/plain": [
       "<Figure size 1440x720 with 2 Axes>"
      ]
     },
     "metadata": {},
     "output_type": "display_data"
    }
   ],
   "source": [
    "# Visualizing the correlation matrix by plotting heat map.\n",
    "plt.figure(figsize=(20,10))\n",
    "sns.heatmap(df.corr(),linewidths=.1,vmin=-1, vmax=1, fmt='.1g', annot = True, linecolor=\"black\",annot_kws={'size':10},cmap=\"coolwarm\")\n",
    "plt.yticks(rotation=0);"
   ]
  },
  {
   "cell_type": "code",
   "execution_count": null,
   "id": "829fbce2",
   "metadata": {},
   "outputs": [],
   "source": []
  }
 ],
 "metadata": {
  "kernelspec": {
   "display_name": "Python 3 (ipykernel)",
   "language": "python",
   "name": "python3"
  },
  "language_info": {
   "codemirror_mode": {
    "name": "ipython",
    "version": 3
   },
   "file_extension": ".py",
   "mimetype": "text/x-python",
   "name": "python",
   "nbconvert_exporter": "python",
   "pygments_lexer": "ipython3",
   "version": "3.9.12"
  }
 },
 "nbformat": 4,
 "nbformat_minor": 5
}
